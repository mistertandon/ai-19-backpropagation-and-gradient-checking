{
 "cells": [
  {
   "cell_type": "code",
   "execution_count": 43,
   "metadata": {},
   "outputs": [],
   "source": [
    "import numpy as np\n",
    "import pandas as pd"
   ]
  },
  {
   "cell_type": "code",
   "execution_count": 44,
   "metadata": {},
   "outputs": [],
   "source": [
    "import matplotlib.pyplot as plt\n",
    "%matplotlib inline"
   ]
  },
  {
   "cell_type": "code",
   "execution_count": 45,
   "metadata": {},
   "outputs": [],
   "source": [
    "import pickle\n",
    "from tqdm import tqdm"
   ]
  },
  {
   "cell_type": "code",
   "execution_count": 46,
   "metadata": {},
   "outputs": [
    {
     "name": "stdout",
     "output_type": "stream",
     "text": [
      "<class 'numpy.ndarray'>\n",
      "(506, 6)\n",
      "[[-1.2879095  -0.12001342 -1.45900038 -0.66660821 -0.14421743  1.85884913]\n",
      " [-0.59338101  0.36716642 -0.30309415 -0.98732948 -0.74026221  1.81901037]]\n"
     ]
    }
   ],
   "source": [
    "with open('data.pkl', 'rb') as f:\n",
    "    data = pickle.load(f)\n",
    "\n",
    "print(type(data))\n",
    "print(data.shape)\n",
    "print(data[:2, :])"
   ]
  },
  {
   "cell_type": "code",
   "execution_count": 47,
   "metadata": {},
   "outputs": [
    {
     "name": "stdout",
     "output_type": "stream",
     "text": [
      "<class 'numpy.ndarray'>\n",
      "(506, 5)\n",
      "[[-1.2879095  -0.12001342 -1.45900038 -0.66660821 -0.14421743]\n",
      " [-0.59338101  0.36716642 -0.30309415 -0.98732948 -0.74026221]\n",
      " [-0.59338101 -0.26581176 -0.30309415 -0.98732948 -0.74026221]\n",
      " [-1.30687771 -0.80988851  0.1130321  -1.10611514 -0.83528384]\n",
      " [-1.30687771 -0.51117971  0.1130321  -1.10611514 -0.83528384]]\n"
     ]
    }
   ],
   "source": [
    "X = data[:, :5]\n",
    "print(type(X))\n",
    "print(X.shape)\n",
    "print(X[:5])"
   ]
  },
  {
   "cell_type": "code",
   "execution_count": 48,
   "metadata": {},
   "outputs": [
    {
     "name": "stdout",
     "output_type": "stream",
     "text": [
      "<class 'numpy.ndarray'>\n",
      "(506,)\n",
      "[1.85884913 1.81901037 1.81989281 1.68590132 1.68590132]\n"
     ]
    }
   ],
   "source": [
    "Y = data[:, -1]\n",
    "print(type(Y))\n",
    "print(Y.shape)\n",
    "print(Y[:5])"
   ]
  },
  {
   "cell_type": "code",
   "execution_count": 85,
   "metadata": {},
   "outputs": [
    {
     "data": {
      "text/plain": [
       "[-0.85278606,\n",
       " -0.0906873,\n",
       " 0.33943315,\n",
       " 1.08441533,\n",
       " -2.20272759,\n",
       " -0.07922769,\n",
       " -1.06343281,\n",
       " 0.25353341,\n",
       " 0.26889213]"
      ]
     },
     "execution_count": 85,
     "metadata": {},
     "output_type": "execute_result"
    }
   ],
   "source": [
    "#w = np.random.normal(loc = 0.0 ,scale = 1.0, size = (9, ))\n",
    "w = [-0.85278606, -0.0906873 ,  0.33943315,  1.08441533, -2.20272759,\n",
    "       -0.07922769, -1.06343281,  0.25353341,  0.26889213]\n",
    "w"
   ]
  },
  {
   "cell_type": "code",
   "execution_count": 50,
   "metadata": {},
   "outputs": [],
   "source": [
    "def sigmoid(z):\n",
    "    \n",
    "    denominator = np.add(1, np.exp(-z))\n",
    "    \n",
    "    sig = np.divide(1, denominator)\n",
    "    \n",
    "    return sig"
   ]
  },
  {
   "cell_type": "code",
   "execution_count": 51,
   "metadata": {},
   "outputs": [],
   "source": [
    "def compute_loss(y, y_hat):\n",
    "    \n",
    "    diff = np.subtract(y, y_hat)\n",
    "    \n",
    "    diff_square = np.square(diff)\n",
    "    \n",
    "    loss = np.divide(diff_square, -2)\n",
    "    \n",
    "    return loss"
   ]
  },
  {
   "cell_type": "code",
   "execution_count": 52,
   "metadata": {},
   "outputs": [],
   "source": [
    "def copmute_del_z10__by__del_w9(z9):\n",
    "    \n",
    "    return z9"
   ]
  },
  {
   "cell_type": "code",
   "execution_count": 53,
   "metadata": {},
   "outputs": [],
   "source": [
    "def copmute_del_loss__by__del_w9(z9, y, y_hat):\n",
    "    \"\"\"\n",
    "    \"\"\"\n",
    "    del_loss__by__del_w9 = np.prod([\n",
    "        \n",
    "        copmute_del_loss__by__del_y_hat(y, y_hat),\n",
    "        copmute_del_y_hat__by__del_z10(),\n",
    "        copmute_del_z10__by__del_w9(z9)\n",
    "                        ])\n",
    "    \n",
    "    return del_loss__by__del_w9"
   ]
  },
  {
   "cell_type": "code",
   "execution_count": null,
   "metadata": {},
   "outputs": [],
   "source": []
  },
  {
   "cell_type": "code",
   "execution_count": null,
   "metadata": {},
   "outputs": [],
   "source": []
  },
  {
   "cell_type": "code",
   "execution_count": 54,
   "metadata": {},
   "outputs": [],
   "source": [
    "def copmute_del_z8__by__del_w8():\n",
    "    \n",
    "    return 1"
   ]
  },
  {
   "cell_type": "code",
   "execution_count": 55,
   "metadata": {},
   "outputs": [],
   "source": [
    "def copmute_del_loss__by__del_w8(z8, y, y_hat):\n",
    "    \"\"\"\n",
    "    \"\"\"\n",
    "    del_loss__by__del_w8 = np.prod([\n",
    "        \n",
    "        copmute_del_loss__by__del_y_hat(y, y_hat),\n",
    "        copmute_del_y_hat__by__del_z10(),\n",
    "        copmute_del_z10__by__del_z9(),\n",
    "        copmute_del_z9__by__del_z8(z8),\n",
    "        copmute_del_z8__by__del_w8(),\n",
    "                        ])\n",
    "    \n",
    "    return del_loss__by__del_w8"
   ]
  },
  {
   "cell_type": "code",
   "execution_count": null,
   "metadata": {},
   "outputs": [],
   "source": []
  },
  {
   "cell_type": "code",
   "execution_count": null,
   "metadata": {},
   "outputs": [],
   "source": []
  },
  {
   "cell_type": "code",
   "execution_count": 56,
   "metadata": {},
   "outputs": [],
   "source": [
    "def copmute_del_z3__by__del_w7(z2):\n",
    "    \n",
    "    return z2"
   ]
  },
  {
   "cell_type": "code",
   "execution_count": 57,
   "metadata": {},
   "outputs": [],
   "source": [
    "def copmute_del_loss__by__del_w7(z2, z3, y, y_hat):\n",
    "    \"\"\"\n",
    "    \"\"\"\n",
    "\n",
    "    del_loss__by__del_w7 = np.prod([\n",
    "                            copmute_del_loss__by__del_y_hat(y, y_hat),\n",
    "                            copmute_del_y_hat__by__del_z4(),\n",
    "                            copmute_del_z4__by__del_z3(z3),\n",
    "                            copmute_del_z3__by__del_w7(z2)\n",
    "                        ])\n",
    "    \n",
    "    return del_loss__by__del_w7"
   ]
  },
  {
   "cell_type": "code",
   "execution_count": null,
   "metadata": {},
   "outputs": [],
   "source": []
  },
  {
   "cell_type": "code",
   "execution_count": null,
   "metadata": {},
   "outputs": [],
   "source": []
  },
  {
   "cell_type": "code",
   "execution_count": 58,
   "metadata": {},
   "outputs": [],
   "source": [
    "def copmute_del_z1__by__del_w6():\n",
    "    \n",
    "     return 1"
   ]
  },
  {
   "cell_type": "code",
   "execution_count": 59,
   "metadata": {},
   "outputs": [],
   "source": [
    "def copmute_del_loss__by__del_w6(z3, z_01_mul_z_02_square, y, y_hat, w):\n",
    "    \"\"\"\n",
    "    \"\"\"\n",
    "    w1, w2, w3, w4, w5, w6, w7, w8, w9 = w\n",
    "    \n",
    "    del_loss__by__del_w6 = np.prod([\n",
    "        \n",
    "                            copmute_del_loss__by__del_y_hat(y, y_hat),\n",
    "                            copmute_del_y_hat__by__del_z4(),\n",
    "        \n",
    "                            copmute_del_z4__by__del_z3(z3),\n",
    "                            copmute_del_z3__by__del_z2(),\n",
    "                            copmute_del_z2__by__del_z1(z_01_mul_z_02_square, w6),\n",
    "                            copmute_del_z1__by__del_w6()\n",
    "                        ])\n",
    "    \n",
    "    return del_loss__by__del_w6"
   ]
  },
  {
   "cell_type": "code",
   "execution_count": null,
   "metadata": {},
   "outputs": [],
   "source": []
  },
  {
   "cell_type": "code",
   "execution_count": null,
   "metadata": {},
   "outputs": [],
   "source": []
  },
  {
   "cell_type": "code",
   "execution_count": 60,
   "metadata": {},
   "outputs": [],
   "source": [
    "def copmute_del_z7__by__del_w5(z6, f5):\n",
    "\n",
    "    return np.multiply(z6, f5)"
   ]
  },
  {
   "cell_type": "code",
   "execution_count": 61,
   "metadata": {},
   "outputs": [],
   "source": [
    "def copmute_del_loss__by__del_w5(f5, z6, z8, y, y_hat):\n",
    "    \n",
    "    w1, w2, w3, w4, w5, w6, w7, w8, w9 = w\n",
    "    \n",
    "    del_loss__by__del_w5 = np.prod([\n",
    "        copmute_del_loss__by__del_y_hat(y, y_hat),\n",
    "        copmute_del_y_hat__by__del_z10(),\n",
    "        copmute_del_z10__by__del_z9(),\n",
    "        copmute_del_z9__by__del_z8(z8),\n",
    "        copmute_del_z8__by__del_z7(),\n",
    "        copmute_del_z7__by__del_w5(z6, f5)\n",
    "    ])\n",
    "    \n",
    "    return del_loss__by__del_w5"
   ]
  },
  {
   "cell_type": "code",
   "execution_count": null,
   "metadata": {},
   "outputs": [],
   "source": []
  },
  {
   "cell_type": "code",
   "execution_count": null,
   "metadata": {},
   "outputs": [],
   "source": []
  },
  {
   "cell_type": "code",
   "execution_count": 62,
   "metadata": {},
   "outputs": [],
   "source": [
    "def copmute_del_z7__by__del_w4(z6, f4):\n",
    "\n",
    "    return np.multiply(z6, f4)"
   ]
  },
  {
   "cell_type": "code",
   "execution_count": 63,
   "metadata": {},
   "outputs": [],
   "source": [
    "def copmute_del_loss__by__del_w4(f4, z6, z8, y, y_hat):\n",
    "    \n",
    "    w1, w2, w3, w4, w5, w6, w7, w8, w9 = w\n",
    "    \n",
    "    del_loss__by__del_w4 = np.prod([\n",
    "        \n",
    "        copmute_del_loss__by__del_y_hat(y, y_hat),\n",
    "        copmute_del_y_hat__by__del_z10(),\n",
    "        copmute_del_z10__by__del_z9(),\n",
    "        copmute_del_z9__by__del_z8(z8),\n",
    "        copmute_del_z8__by__del_z7(),\n",
    "        copmute_del_z7__by__del_w4(z6, f4)\n",
    "    ])\n",
    "    \n",
    "    return del_loss__by__del_w4"
   ]
  },
  {
   "cell_type": "code",
   "execution_count": null,
   "metadata": {},
   "outputs": [],
   "source": []
  },
  {
   "cell_type": "code",
   "execution_count": null,
   "metadata": {},
   "outputs": [],
   "source": []
  },
  {
   "cell_type": "code",
   "execution_count": 64,
   "metadata": {},
   "outputs": [],
   "source": [
    "def copmute_del_z5__by__del_w3(f3):\n",
    "\n",
    "    return f3"
   ]
  },
  {
   "cell_type": "code",
   "execution_count": 65,
   "metadata": {},
   "outputs": [],
   "source": [
    "def copmute_del_z6__by__del_z5(z5):\n",
    "\n",
    "    return np.cos(z5)"
   ]
  },
  {
   "cell_type": "code",
   "execution_count": 66,
   "metadata": {},
   "outputs": [],
   "source": [
    "def copmute_del_z7__by__del_z6(f4, f5, w4, w5):\n",
    "\n",
    "    return np.add(np.multiply(f4, w4), np.multiply(f5, w5))"
   ]
  },
  {
   "cell_type": "code",
   "execution_count": 67,
   "metadata": {},
   "outputs": [],
   "source": [
    "def copmute_del_z8__by__del_z7():\n",
    "        \n",
    "    return 1"
   ]
  },
  {
   "cell_type": "code",
   "execution_count": 68,
   "metadata": {},
   "outputs": [],
   "source": [
    "def copmute_del_z9__by__del_z8(z8):\n",
    "    \n",
    "    a = sigmoid(z8)\n",
    "    b = np.subtract(1, a)\n",
    "\n",
    "    return np.multiply(a, b)"
   ]
  },
  {
   "cell_type": "code",
   "execution_count": 69,
   "metadata": {},
   "outputs": [],
   "source": [
    "def copmute_del_z10__by__del_z9():\n",
    "    \n",
    "    return 1"
   ]
  },
  {
   "cell_type": "code",
   "execution_count": 70,
   "metadata": {},
   "outputs": [],
   "source": [
    "def copmute_del_y_hat__by__del_z10():\n",
    "    \n",
    "    return 1"
   ]
  },
  {
   "cell_type": "code",
   "execution_count": 71,
   "metadata": {},
   "outputs": [],
   "source": [
    "def copmute_del_loss__by__del_w3(f3, f4, f5, z5, z8, y, y_hat, w):\n",
    "    \n",
    "    w1, w2, w3, w4, w5, w6, w7, w8, w9 = w\n",
    "    \n",
    "    del_loss__by__del_w3 = np.prod([\n",
    "        copmute_del_loss__by__del_y_hat(y, y_hat),\n",
    "        copmute_del_y_hat__by__del_z10(),\n",
    "        copmute_del_z10__by__del_z9(),\n",
    "        copmute_del_z9__by__del_z8(z8),\n",
    "        copmute_del_z8__by__del_z7(),\n",
    "        copmute_del_z7__by__del_z6(f4, f5, w4, w5),\n",
    "        copmute_del_z6__by__del_z5(z5),\n",
    "        copmute_del_z5__by__del_w3(f3)        \n",
    "    ])\n",
    "    \n",
    "    return del_loss__by__del_w3"
   ]
  },
  {
   "cell_type": "code",
   "execution_count": null,
   "metadata": {},
   "outputs": [],
   "source": []
  },
  {
   "cell_type": "code",
   "execution_count": null,
   "metadata": {},
   "outputs": [],
   "source": []
  },
  {
   "cell_type": "code",
   "execution_count": 72,
   "metadata": {},
   "outputs": [],
   "source": [
    "def copmute_del_z1__by__del_w2(f1, f2, w1, w2):\n",
    "    \n",
    "    linear_eqn = np.add(np.multiply(f1, w1), np.multiply(f2, w2))\n",
    "    \n",
    "    grad = np.multiply(2 * f2, linear_eqn)\n",
    "    \n",
    "    return grad"
   ]
  },
  {
   "cell_type": "code",
   "execution_count": 73,
   "metadata": {},
   "outputs": [],
   "source": [
    "def copmute_del_loss__by__del_w2(f1, f2, z_01_mul_z_02_square, w, y, y_hat):\n",
    "    \n",
    "    \"\"\"\n",
    "    \"\"\"\n",
    "    w1, w2, w3, w4, w5, w6, w7, w8, w9 = w\n",
    "    \n",
    "    del_loss__by__del_w1 = np.prod([\n",
    "                            copmute_del_loss__by__del_y_hat(y, y_hat),\n",
    "                            copmute_del_y_hat__by__del_z4(),\n",
    "                            copmute_del_z4__by__del_z3(z3),\n",
    "                            copmute_del_z3__by__del_z2(),\n",
    "                            copmute_del_z2__by__del_z1(z_01_mul_z_02_square, w6),\n",
    "                            copmute_del_z1__by__del_w2(f1, f2, w1, w2),\n",
    "                        ])\n",
    "    \n",
    "    return del_loss__by__del_w1"
   ]
  },
  {
   "cell_type": "code",
   "execution_count": null,
   "metadata": {},
   "outputs": [],
   "source": []
  },
  {
   "cell_type": "code",
   "execution_count": null,
   "metadata": {},
   "outputs": [],
   "source": []
  },
  {
   "cell_type": "code",
   "execution_count": 74,
   "metadata": {},
   "outputs": [],
   "source": [
    "def copmute_del_z1__by__del_w1(f1, f2, w1, w2):\n",
    "    \n",
    "    linear_eqn = np.add(np.multiply(f1, w1), np.multiply(f2, w2))\n",
    "    \n",
    "    grad = np.multiply(2 * f1, linear_eqn)\n",
    "    \n",
    "    return grad"
   ]
  },
  {
   "cell_type": "code",
   "execution_count": 75,
   "metadata": {},
   "outputs": [],
   "source": [
    "def copmute_del_z2__by__del_z1(z_01_mul_z_02_square, w6):\n",
    "    \n",
    "    return np.exp(np.add(z_01_mul_z_02_square, w6))"
   ]
  },
  {
   "cell_type": "code",
   "execution_count": 76,
   "metadata": {},
   "outputs": [],
   "source": [
    "def copmute_del_z3__by__del_z2():\n",
    "    \n",
    "    return 1"
   ]
  },
  {
   "cell_type": "code",
   "execution_count": 77,
   "metadata": {},
   "outputs": [],
   "source": [
    "\n",
    "def copmute_del_z4__by__del_z3(z3):\n",
    "    \n",
    "    tanh_square = np.square(np.tanh(z3))\n",
    "    \n",
    "    return np.subtract(1, tanh_square)"
   ]
  },
  {
   "cell_type": "code",
   "execution_count": 78,
   "metadata": {},
   "outputs": [],
   "source": [
    "def copmute_del_y_hat__by__del_z4():\n",
    "    \n",
    "    return 1"
   ]
  },
  {
   "cell_type": "code",
   "execution_count": 79,
   "metadata": {},
   "outputs": [],
   "source": [
    "def copmute_del_loss__by__del_y_hat(y, y_hat):\n",
    "    \n",
    "    return -np.subtract(y, y_hat)"
   ]
  },
  {
   "cell_type": "code",
   "execution_count": null,
   "metadata": {},
   "outputs": [],
   "source": []
  },
  {
   "cell_type": "code",
   "execution_count": 80,
   "metadata": {},
   "outputs": [],
   "source": [
    "def copmute_del_loss__by__del_w1(f1, f2, z_01_mul_z_02_square, w, y, y_hat):\n",
    "    \"\"\"\n",
    "    \"\"\"\n",
    "    w1, w2, w3, w4, w5, w6, w7, w8, w9 = w\n",
    "    \n",
    "    del_loss__by__del_w1 = np.prod([\n",
    "                            copmute_del_loss__by__del_y_hat(y, y_hat),\n",
    "                            copmute_del_y_hat__by__del_z4(),\n",
    "                            copmute_del_z4__by__del_z3(z3),\n",
    "                            copmute_del_z3__by__del_z2(),\n",
    "                            copmute_del_z2__by__del_z1(z_01_mul_z_02_square, w6),\n",
    "                            copmute_del_z1__by__del_w1(f1, f2, w1, w2),\n",
    "                        ])\n",
    "    \n",
    "    return del_loss__by__del_w1"
   ]
  },
  {
   "cell_type": "code",
   "execution_count": 81,
   "metadata": {},
   "outputs": [
    {
     "name": "stdout",
     "output_type": "stream",
     "text": [
      "[-0.85278606 -0.0906873   0.33943315  1.08441533 -2.20272759 -0.07922769\n",
      " -1.06343281  0.25353341  0.26889213]\n"
     ]
    },
    {
     "name": "stderr",
     "output_type": "stream",
     "text": [
      "100%|████████████████████████████████████████████████████████████████████████████████████| 1/1 [00:00<00:00,  4.65it/s]\n"
     ]
    }
   ],
   "source": [
    "epochs = 1\n",
    "lr = 0.0001\n",
    "loss_trace = list()\n",
    "print(w)\n",
    "for epoch in tqdm(range(epochs)):\n",
    "    \n",
    "    loss_temp = 0.0\n",
    "    for (f1, f2, f3, f4, f5), y in zip(X, Y):\n",
    "        \n",
    "\n",
    "        \"\"\"\n",
    "           FORWARD PROPAGATION\n",
    "           -------------------\n",
    "           \n",
    "        Here we're calculating following node values\n",
    "        \n",
    "        z_01, z_02, z_01_mul_z_02\n",
    "        AND\n",
    "        z1, z2, z3, z4, z5\n",
    "        \"\"\"\n",
    "        z_01 = np.multiply(f1, w[0])\n",
    "        z_02 = np.multiply(f2, w[1])\n",
    "        \n",
    "        z_01_mul_z_02 = np.multiply(z_01, z_02)\n",
    "        \n",
    "        z_01_mul_z_02_square = np.square(z_01_mul_z_02)\n",
    "        \n",
    "        z1 = np.add(z_01_mul_z_02_square, w[5])\n",
    "        \n",
    "        z2 = np.exp(z1)\n",
    "        \n",
    "        z3 = np.add(z2, w[6])\n",
    "        \n",
    "        z4 = np.tanh(z3)\n",
    "\n",
    "\n",
    "        \"\"\"\n",
    "        Here we're calculating following node values\n",
    "        \n",
    "        z_03, z6\n",
    "        \"\"\"\n",
    "        z5 = np.multiply(f3, w[2])\n",
    "        \n",
    "        z6 = np.sin(z5)\n",
    "        \n",
    "\n",
    "        \"\"\"\n",
    "        Here we're calculating following node values\n",
    "        \n",
    "        z_04, z_05, z_04_mul_z_05\n",
    "        AND\n",
    "        z7, z8, z9, z10\n",
    "        \"\"\"\n",
    "        z_04 = np.multiply(f3, w[3])\n",
    "        \n",
    "        z_05 = np.multiply(f3, w[4])\n",
    "        \n",
    "        z_04_add_z_05 = np.add(z_04, z_05)\n",
    "        \n",
    "        z7 = np.add(z6, z_04_add_z_05)\n",
    "        \n",
    "        z8 = np.add(z7, w[7])\n",
    "        \n",
    "        z9 = sigmoid(z8)\n",
    "        \n",
    "        z10 = np.add(z9, w[8])\n",
    "        \n",
    "        \n",
    "        \"\"\"\n",
    "        Here we're calculating following node values\n",
    "\n",
    "        y_hat, loss\n",
    "        \"\"\"\n",
    "        y_hat = np.add(z4, z10)\n",
    "        \n",
    "        loss = compute_loss(y, y_hat)\n",
    "        \n",
    "        loss_temp += loss\n",
    "        \n",
    "        \"\"\"\n",
    "        del_loss__by__del_w1 = copmute_del_loss__by__del_w1(f1, f2, z_01_mul_z_02_square, w, y, y_hat)\n",
    "        \n",
    "        del_loss__by__del_w2 = copmute_del_loss__by__del_w2(f1, f2, z_01_mul_z_02_square, w, y, y_hat)\n",
    "        \n",
    "        del_loss__by__del_w3 = copmute_del_loss__by__del_w2(f1, f2, z_01_mul_z_02_square, w, y, y_hat)\n",
    "        \n",
    "        del_loss__by__del_w4 = copmute_del_loss__by__del_w4(f4, z6, z8, y, y_hat)\n",
    "        \n",
    "        del_loss__by__del_w5 = copmute_del_loss__by__del_w5(f5, z6, z8, y, y_hat)\n",
    "        \n",
    "        del_loss__by__del_w6 = copmute_del_loss__by__del_w6(z3, z_01_mul_z_02_square, y, y_hat, w)\n",
    "        \n",
    "        del_loss__by__del_w7 = copmute_del_loss__by__del_w7(z2, z3, y, y_hat)\n",
    "        \n",
    "        del_loss__by__del_w8 = copmute_del_loss__by__del_w8(z8, y, y_hat)\n",
    "        \n",
    "        del_loss__by__del_w9 = copmute_del_loss__by__del_w9(z9, y, y_hat)\n",
    "        \n",
    "        \"\"\"\n",
    "        l_w1 = copmute_del_loss__by__del_w1(f1, f2, z_01_mul_z_02_square, w, y, y_hat)\n",
    "        \n",
    "        l_w2 = copmute_del_loss__by__del_w2(f1, f2, z_01_mul_z_02_square, w, y, y_hat)\n",
    "        \n",
    "        l_w3 = copmute_del_loss__by__del_w2(f1, f2, z_01_mul_z_02_square, w, y, y_hat)\n",
    "        \n",
    "        l_w4 = copmute_del_loss__by__del_w4(f4, z6, z8, y, y_hat)\n",
    "        \n",
    "        l_w5 = copmute_del_loss__by__del_w5(f5, z6, z8, y, y_hat)\n",
    "        \n",
    "        l_w6 = copmute_del_loss__by__del_w6(z3, z_01_mul_z_02_square, y, y_hat, w)\n",
    "        \n",
    "        l_w7 = copmute_del_loss__by__del_w7(z2, z3, y, y_hat)\n",
    "        \n",
    "        l_w8 = copmute_del_loss__by__del_w8(z8, y, y_hat)\n",
    "        \n",
    "        l_w9 = copmute_del_loss__by__del_w9(z9, y, y_hat)\n",
    "\n",
    "        w = [ np.subtract(weight, -lr * l_w) for weight, l_w in zip(w, [l_w1, l_w2, l_w3, l_w4, l_w5, l_w6, l_w7, l_w8, l_w9])]\n",
    "\n",
    "\n",
    "    avg_loss = np.divide(loss_temp, X.shape[0])\n",
    "    loss_trace.append(avg_loss)"
   ]
  },
  {
   "cell_type": "code",
   "execution_count": 82,
   "metadata": {},
   "outputs": [
    {
     "name": "stdout",
     "output_type": "stream",
     "text": [
      "[-0.765752020217616, -0.030370765223240438, 0.3997496920320099, 1.081858486445659, -2.204663882267961, -0.13016836910599508, -1.1143734890019095, 0.2403402137925954, 0.23838847324595175]\n"
     ]
    }
   ],
   "source": [
    "print(w)"
   ]
  },
  {
   "cell_type": "code",
   "execution_count": 83,
   "metadata": {},
   "outputs": [
    {
     "data": {
      "text/plain": [
       "[-0.7053184589594735]"
      ]
     },
     "execution_count": 83,
     "metadata": {},
     "output_type": "execute_result"
    }
   ],
   "source": [
    "loss_trace"
   ]
  },
  {
   "cell_type": "code",
   "execution_count": null,
   "metadata": {},
   "outputs": [],
   "source": []
  },
  {
   "cell_type": "code",
   "execution_count": null,
   "metadata": {},
   "outputs": [],
   "source": []
  },
  {
   "cell_type": "code",
   "execution_count": null,
   "metadata": {},
   "outputs": [],
   "source": []
  },
  {
   "cell_type": "code",
   "execution_count": null,
   "metadata": {},
   "outputs": [],
   "source": []
  },
  {
   "cell_type": "code",
   "execution_count": null,
   "metadata": {},
   "outputs": [],
   "source": []
  },
  {
   "cell_type": "code",
   "execution_count": null,
   "metadata": {},
   "outputs": [],
   "source": []
  },
  {
   "cell_type": "code",
   "execution_count": null,
   "metadata": {},
   "outputs": [],
   "source": []
  },
  {
   "cell_type": "code",
   "execution_count": null,
   "metadata": {},
   "outputs": [],
   "source": []
  },
  {
   "cell_type": "code",
   "execution_count": null,
   "metadata": {},
   "outputs": [],
   "source": []
  },
  {
   "cell_type": "code",
   "execution_count": null,
   "metadata": {},
   "outputs": [],
   "source": []
  },
  {
   "cell_type": "code",
   "execution_count": null,
   "metadata": {},
   "outputs": [],
   "source": []
  },
  {
   "cell_type": "code",
   "execution_count": null,
   "metadata": {},
   "outputs": [],
   "source": []
  },
  {
   "cell_type": "code",
   "execution_count": null,
   "metadata": {},
   "outputs": [],
   "source": []
  }
 ],
 "metadata": {
  "kernelspec": {
   "display_name": "Python 3",
   "language": "python",
   "name": "python3"
  },
  "language_info": {
   "codemirror_mode": {
    "name": "ipython",
    "version": 3
   },
   "file_extension": ".py",
   "mimetype": "text/x-python",
   "name": "python",
   "nbconvert_exporter": "python",
   "pygments_lexer": "ipython3",
   "version": "3.7.0"
  }
 },
 "nbformat": 4,
 "nbformat_minor": 2
}
