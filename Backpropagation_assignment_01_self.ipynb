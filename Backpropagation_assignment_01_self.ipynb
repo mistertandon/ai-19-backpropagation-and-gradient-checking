{
 "cells": [
  {
   "cell_type": "code",
   "execution_count": 1,
   "metadata": {},
   "outputs": [],
   "source": [
    "import numpy as np\n",
    "import pandas as pd"
   ]
  },
  {
   "cell_type": "code",
   "execution_count": 2,
   "metadata": {},
   "outputs": [],
   "source": [
    "import matplotlib.pyplot as plt\n",
    "%matplotlib inline"
   ]
  },
  {
   "cell_type": "code",
   "execution_count": 3,
   "metadata": {},
   "outputs": [],
   "source": [
    "import pickle\n",
    "from tqdm import tqdm"
   ]
  },
  {
   "cell_type": "code",
   "execution_count": 4,
   "metadata": {},
   "outputs": [
    {
     "name": "stdout",
     "output_type": "stream",
     "text": [
      "<class 'numpy.ndarray'>\n",
      "(506, 6)\n",
      "[[-1.2879095  -0.12001342 -1.45900038 -0.66660821 -0.14421743  1.85884913]\n",
      " [-0.59338101  0.36716642 -0.30309415 -0.98732948 -0.74026221  1.81901037]]\n"
     ]
    }
   ],
   "source": [
    "with open('data.pkl', 'rb') as f:\n",
    "    data = pickle.load(f)\n",
    "\n",
    "print(type(data))\n",
    "print(data.shape)\n",
    "print(data[:2, :])"
   ]
  },
  {
   "cell_type": "code",
   "execution_count": 5,
   "metadata": {},
   "outputs": [
    {
     "name": "stdout",
     "output_type": "stream",
     "text": [
      "<class 'numpy.ndarray'>\n",
      "(506, 5)\n",
      "[[-1.2879095  -0.12001342 -1.45900038 -0.66660821 -0.14421743]\n",
      " [-0.59338101  0.36716642 -0.30309415 -0.98732948 -0.74026221]\n",
      " [-0.59338101 -0.26581176 -0.30309415 -0.98732948 -0.74026221]\n",
      " [-1.30687771 -0.80988851  0.1130321  -1.10611514 -0.83528384]\n",
      " [-1.30687771 -0.51117971  0.1130321  -1.10611514 -0.83528384]]\n"
     ]
    }
   ],
   "source": [
    "X = data[:, :5]\n",
    "print(type(X))\n",
    "print(X.shape)\n",
    "print(X[:5])"
   ]
  },
  {
   "cell_type": "code",
   "execution_count": 6,
   "metadata": {},
   "outputs": [
    {
     "name": "stdout",
     "output_type": "stream",
     "text": [
      "<class 'numpy.ndarray'>\n",
      "(506,)\n",
      "[1.85884913 1.81901037 1.81989281 1.68590132 1.68590132]\n"
     ]
    }
   ],
   "source": [
    "Y = data[:, -1]\n",
    "print(type(Y))\n",
    "print(Y.shape)\n",
    "print(Y[:5])"
   ]
  },
  {
   "cell_type": "code",
   "execution_count": 7,
   "metadata": {},
   "outputs": [
    {
     "data": {
      "text/plain": [
       "array([-0.1943402 , -0.09984745,  0.21234262, -1.00732188,  3.50506384,\n",
       "        1.1019923 , -0.74740101,  0.54110347,  0.46447393])"
      ]
     },
     "execution_count": 7,
     "metadata": {},
     "output_type": "execute_result"
    }
   ],
   "source": [
    "w = np.random.normal(loc = 0.0 ,scale = 1.0, size = (9, ))\n",
    "w"
   ]
  },
  {
   "cell_type": "code",
   "execution_count": 8,
   "metadata": {},
   "outputs": [],
   "source": [
    "def compute_sigmoid(z):\n",
    "    \n",
    "    denominator = np.add(1, np.exp(-z))\n",
    "    \n",
    "    sig = np.divide(1, denominator)\n",
    "    \n",
    "    return sig"
   ]
  },
  {
   "cell_type": "code",
   "execution_count": 9,
   "metadata": {},
   "outputs": [],
   "source": [
    "def compute_loss(y, y_hat):\n",
    "    \n",
    "    diff = np.subtract(y, y_hat)\n",
    "    \n",
    "    diff_square = np.square(diff)\n",
    "    \n",
    "    loss = np.divide(diff_square, -2)\n",
    "    \n",
    "    return loss"
   ]
  },
  {
   "cell_type": "code",
   "execution_count": null,
   "metadata": {},
   "outputs": [],
   "source": [
    "def copmute_del_z7__by__del_w5(z6, f5):\n",
    "\n",
    "    return np.multiply(z6, f5)"
   ]
  },
  {
   "cell_type": "code",
   "execution_count": null,
   "metadata": {},
   "outputs": [],
   "source": [
    "def copmute_del_loss__by__del_w5():\n",
    "    \n",
    "    ## Yet to develop\n",
    "    return True"
   ]
  },
  {
   "cell_type": "code",
   "execution_count": null,
   "metadata": {},
   "outputs": [],
   "source": []
  },
  {
   "cell_type": "code",
   "execution_count": null,
   "metadata": {},
   "outputs": [],
   "source": []
  },
  {
   "cell_type": "code",
   "execution_count": null,
   "metadata": {},
   "outputs": [],
   "source": [
    "def copmute_del_z7__by__del_w4(z6, f4):\n",
    "\n",
    "    return np.multiply(z6, f4)"
   ]
  },
  {
   "cell_type": "code",
   "execution_count": null,
   "metadata": {},
   "outputs": [],
   "source": [
    "def copmute_del_loss__by__del_w4():\n",
    "    \n",
    "    ## Yet to develop\n",
    "    return True"
   ]
  },
  {
   "cell_type": "code",
   "execution_count": null,
   "metadata": {},
   "outputs": [],
   "source": []
  },
  {
   "cell_type": "code",
   "execution_count": null,
   "metadata": {},
   "outputs": [],
   "source": []
  },
  {
   "cell_type": "code",
   "execution_count": null,
   "metadata": {},
   "outputs": [],
   "source": [
    "def copmute_del_z5__by__del_w3(f3):\n",
    "\n",
    "    return f3"
   ]
  },
  {
   "cell_type": "code",
   "execution_count": null,
   "metadata": {},
   "outputs": [],
   "source": [
    "def copmute_del_z6__by__del_z5(z5):\n",
    "\n",
    "    return np.cos(z5)"
   ]
  },
  {
   "cell_type": "code",
   "execution_count": null,
   "metadata": {},
   "outputs": [],
   "source": [
    "def copmute_del_z7__by__del_z6(f4, f5, w4, w5):\n",
    "\n",
    "    return np.add(np.multiply(f4, w4), np.multiply(f5, , w5))"
   ]
  },
  {
   "cell_type": "code",
   "execution_count": null,
   "metadata": {},
   "outputs": [],
   "source": [
    "def copmute_del_z8__by__del_z7():\n",
    "        \n",
    "    return 1"
   ]
  },
  {
   "cell_type": "code",
   "execution_count": null,
   "metadata": {},
   "outputs": [],
   "source": [
    "def copmute_del_z9__by__del_z8(z8):\n",
    "        \n",
    "    return compute_sigmoid(z8) * [1 - compute_sigmoid(z8)]"
   ]
  },
  {
   "cell_type": "code",
   "execution_count": null,
   "metadata": {},
   "outputs": [],
   "source": [
    "def copmute_del_z10__by__del_z9():\n",
    "    \n",
    "    return 1"
   ]
  },
  {
   "cell_type": "code",
   "execution_count": null,
   "metadata": {},
   "outputs": [],
   "source": [
    "def copmute_del_y_hat__by__del_z10():\n",
    "    \n",
    "    return 1"
   ]
  },
  {
   "cell_type": "code",
   "execution_count": null,
   "metadata": {},
   "outputs": [],
   "source": [
    "def copmute_del_loss__by__del_w3():\n",
    "    \n",
    "    ## Yet to develop\n",
    "    return True"
   ]
  },
  {
   "cell_type": "code",
   "execution_count": null,
   "metadata": {},
   "outputs": [],
   "source": []
  },
  {
   "cell_type": "code",
   "execution_count": null,
   "metadata": {},
   "outputs": [],
   "source": []
  },
  {
   "cell_type": "code",
   "execution_count": null,
   "metadata": {},
   "outputs": [],
   "source": [
    "def copmute_del_z1__by__del_w2(f1, f2, w1, w2):\n",
    "    \n",
    "    linear_eqn = np.add(np.multiply(f1, w1), np.multiply(f2, w2))\n",
    "    \n",
    "    grad = np.multiply(2 * f2, linear_eqn)\n",
    "    \n",
    "    return grad"
   ]
  },
  {
   "cell_type": "code",
   "execution_count": null,
   "metadata": {},
   "outputs": [],
   "source": [
    "def copmute_del_loss__by__del_w2():\n",
    "    \n",
    "    return True"
   ]
  },
  {
   "cell_type": "code",
   "execution_count": null,
   "metadata": {},
   "outputs": [],
   "source": [
    "def copmute_del_z1__by__del_w1(f1, f2, w1, w2):\n",
    "    \n",
    "    linear_eqn = np.add(np.multiply(f1, w1), np.multiply(f2, w2))\n",
    "    \n",
    "    grad = np.multiply(2 * f1, linear_eqn)\n",
    "    \n",
    "    return grad"
   ]
  },
  {
   "cell_type": "code",
   "execution_count": null,
   "metadata": {},
   "outputs": [],
   "source": [
    "def copmute_del_z2__by__del_z1(z_01_mul_z_02, w6):\n",
    "    \n",
    "    return np.exp(np.add(z_01_mul_z_02, w6))"
   ]
  },
  {
   "cell_type": "code",
   "execution_count": null,
   "metadata": {},
   "outputs": [],
   "source": [
    "def copmute_del_z3__by__del_z2():\n",
    "    \n",
    "    return 1"
   ]
  },
  {
   "cell_type": "code",
   "execution_count": 14,
   "metadata": {},
   "outputs": [],
   "source": [
    "def copmute_del_z4__by__del_z3(z3):\n",
    "    \n",
    "    tanh_square = np.square(tanh(z3))\n",
    "    \n",
    "    return np.subtract(1, tanh_square)"
   ]
  },
  {
   "cell_type": "code",
   "execution_count": null,
   "metadata": {},
   "outputs": [],
   "source": [
    "def copmute_del_y_hat__by__del_z4():\n",
    "    \n",
    "    return 1"
   ]
  },
  {
   "cell_type": "code",
   "execution_count": 13,
   "metadata": {},
   "outputs": [],
   "source": [
    "def copmute_del_loss__by__del_y_hat(y, y_hat):\n",
    "    \n",
    "    return -np.subtract(y, y_hat)"
   ]
  },
  {
   "cell_type": "code",
   "execution_count": 12,
   "metadata": {},
   "outputs": [],
   "source": [
    "def copmute_del_loss__by__del_w0():\n",
    "    \n",
    "    return True"
   ]
  },
  {
   "cell_type": "code",
   "execution_count": 10,
   "metadata": {},
   "outputs": [],
   "source": [
    "epochs = 1\n",
    "for epoch in range(epochs):\n",
    "    \n",
    "    for (f1, f2, f3, f4, f5), y in zip(X, Y):\n",
    "        \n",
    "\n",
    "        \"\"\"\n",
    "           FORWARD PROPAGATION\n",
    "           -------------------\n",
    "           \n",
    "        Here we're calculating following node values\n",
    "        \n",
    "        z_01, z_02, z_01_mul_z_02\n",
    "        AND\n",
    "        z1, z2, z3, z4, z5\n",
    "        \"\"\"\n",
    "        z_01 = np.multiply(f1, w[0])\n",
    "        z_02 = np.multiply(f2, w[1])\n",
    "        \n",
    "        z_01_mul_z_02 = np.multiply(z_01, z_02)\n",
    "        \n",
    "        z_01_mul_z_02_square = np.square(z_01_mul_z_02)\n",
    "        \n",
    "        z1 = np.add(z_01_mul_z_02_square, w[5])\n",
    "        \n",
    "        z2 = np.exp(z1)\n",
    "        \n",
    "        z3 = np.add(z2, w[6])\n",
    "        \n",
    "        z4 = np.tanh(z3)\n",
    "\n",
    "\n",
    "        \"\"\"\n",
    "        Here we're calculating following node values\n",
    "        \n",
    "        z_03, z6\n",
    "        \"\"\"\n",
    "        z_03 = np.multiply(f3, w[2])\n",
    "        \n",
    "        z6 = np.sin(z_03)\n",
    "        \n",
    "\n",
    "        \"\"\"\n",
    "        Here we're calculating following node values\n",
    "        \n",
    "        z_04, z_05, z_04_mul_z_05\n",
    "        AND\n",
    "        z7, z8, z9, z10\n",
    "        \"\"\"\n",
    "        z_04 = np.multiply(f3, w[3])\n",
    "        \n",
    "        z_05 = np.multiply(f3, w[4])\n",
    "        \n",
    "        z_04_mul_z_05 = np.multiply(z_04, z_05)\n",
    "        \n",
    "        z7 = np.add(z6, z_04_mul_z_05)\n",
    "        \n",
    "        z8 = np.add(z7, w[7])\n",
    "        \n",
    "        z9 = compute_sigmoid(z8)\n",
    "        \n",
    "        z10 = np.add(z9, w[8])\n",
    "        \n",
    "        \n",
    "        \"\"\"\n",
    "        Here we're calculating following node values\n",
    "\n",
    "        y_hat, loss\n",
    "        \"\"\"\n",
    "        y_hat = np.add(z5, z10)\n",
    "        \n",
    "        loss = compute_loss(y, y_hat)\n",
    "        \n",
    "        \n",
    "        break"
   ]
  },
  {
   "cell_type": "code",
   "execution_count": null,
   "metadata": {},
   "outputs": [],
   "source": []
  },
  {
   "cell_type": "code",
   "execution_count": null,
   "metadata": {},
   "outputs": [],
   "source": []
  },
  {
   "cell_type": "code",
   "execution_count": null,
   "metadata": {},
   "outputs": [],
   "source": []
  },
  {
   "cell_type": "code",
   "execution_count": null,
   "metadata": {},
   "outputs": [],
   "source": []
  },
  {
   "cell_type": "code",
   "execution_count": null,
   "metadata": {},
   "outputs": [],
   "source": []
  },
  {
   "cell_type": "code",
   "execution_count": null,
   "metadata": {},
   "outputs": [],
   "source": []
  },
  {
   "cell_type": "code",
   "execution_count": null,
   "metadata": {},
   "outputs": [],
   "source": []
  },
  {
   "cell_type": "code",
   "execution_count": null,
   "metadata": {},
   "outputs": [],
   "source": []
  },
  {
   "cell_type": "code",
   "execution_count": null,
   "metadata": {},
   "outputs": [],
   "source": []
  },
  {
   "cell_type": "code",
   "execution_count": null,
   "metadata": {},
   "outputs": [],
   "source": []
  },
  {
   "cell_type": "code",
   "execution_count": null,
   "metadata": {},
   "outputs": [],
   "source": []
  },
  {
   "cell_type": "code",
   "execution_count": null,
   "metadata": {},
   "outputs": [],
   "source": []
  },
  {
   "cell_type": "code",
   "execution_count": null,
   "metadata": {},
   "outputs": [],
   "source": []
  },
  {
   "cell_type": "code",
   "execution_count": null,
   "metadata": {},
   "outputs": [],
   "source": []
  },
  {
   "cell_type": "code",
   "execution_count": null,
   "metadata": {},
   "outputs": [],
   "source": []
  }
 ],
 "metadata": {
  "kernelspec": {
   "display_name": "Python 3",
   "language": "python",
   "name": "python3"
  },
  "language_info": {
   "codemirror_mode": {
    "name": "ipython",
    "version": 3
   },
   "file_extension": ".py",
   "mimetype": "text/x-python",
   "name": "python",
   "nbconvert_exporter": "python",
   "pygments_lexer": "ipython3",
   "version": "3.7.0"
  }
 },
 "nbformat": 4,
 "nbformat_minor": 2
}
