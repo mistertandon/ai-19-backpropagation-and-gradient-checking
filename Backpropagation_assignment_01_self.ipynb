{
 "cells": [
  {
   "cell_type": "code",
   "execution_count": 172,
   "metadata": {},
   "outputs": [],
   "source": [
    "import numpy as np\n",
    "import pandas as pd"
   ]
  },
  {
   "cell_type": "code",
   "execution_count": 173,
   "metadata": {},
   "outputs": [],
   "source": [
    "import matplotlib.pyplot as plt\n",
    "%matplotlib inline"
   ]
  },
  {
   "cell_type": "code",
   "execution_count": 174,
   "metadata": {},
   "outputs": [],
   "source": [
    "import pickle\n",
    "from tqdm import tqdm"
   ]
  },
  {
   "cell_type": "code",
   "execution_count": 175,
   "metadata": {},
   "outputs": [
    {
     "name": "stdout",
     "output_type": "stream",
     "text": [
      "<class 'numpy.ndarray'>\n",
      "(506, 6)\n",
      "[[-1.2879095  -0.12001342 -1.45900038 -0.66660821 -0.14421743  1.85884913]\n",
      " [-0.59338101  0.36716642 -0.30309415 -0.98732948 -0.74026221  1.81901037]]\n"
     ]
    }
   ],
   "source": [
    "with open('data.pkl', 'rb') as f:\n",
    "    data = pickle.load(f)\n",
    "\n",
    "print(type(data))\n",
    "print(data.shape)\n",
    "print(data[:2, :])"
   ]
  },
  {
   "cell_type": "code",
   "execution_count": 176,
   "metadata": {},
   "outputs": [
    {
     "name": "stdout",
     "output_type": "stream",
     "text": [
      "<class 'numpy.ndarray'>\n",
      "(506, 5)\n",
      "[[-1.2879095  -0.12001342 -1.45900038 -0.66660821 -0.14421743]\n",
      " [-0.59338101  0.36716642 -0.30309415 -0.98732948 -0.74026221]\n",
      " [-0.59338101 -0.26581176 -0.30309415 -0.98732948 -0.74026221]\n",
      " [-1.30687771 -0.80988851  0.1130321  -1.10611514 -0.83528384]\n",
      " [-1.30687771 -0.51117971  0.1130321  -1.10611514 -0.83528384]]\n"
     ]
    }
   ],
   "source": [
    "X = data[:, :5]\n",
    "print(type(X))\n",
    "print(X.shape)\n",
    "print(X[:5])"
   ]
  },
  {
   "cell_type": "code",
   "execution_count": 177,
   "metadata": {},
   "outputs": [
    {
     "name": "stdout",
     "output_type": "stream",
     "text": [
      "<class 'numpy.ndarray'>\n",
      "(506,)\n",
      "[1.85884913 1.81901037 1.81989281 1.68590132 1.68590132]\n"
     ]
    }
   ],
   "source": [
    "Y = data[:, -1]\n",
    "print(type(Y))\n",
    "print(Y.shape)\n",
    "print(Y[:5])"
   ]
  },
  {
   "cell_type": "code",
   "execution_count": 178,
   "metadata": {},
   "outputs": [],
   "source": [
    "#w = np.random.normal(loc = 0.0 ,scale = 1.0, size = (9, ))\n",
    "\"\"\"\n",
    "\n",
    "w = [-0.85278606, -0.0906873 ,  0.33943315,  1.08441533, -2.20272759,\n",
    "       -0.07922769, -1.06343281,  0.25353341,  0.26889213]\n",
    "w       \n",
    "\"\"\"\n",
    "\n",
    "w=np.ones(9)*0.1"
   ]
  },
  {
   "cell_type": "code",
   "execution_count": 179,
   "metadata": {},
   "outputs": [],
   "source": [
    "def sigmoid(z):\n",
    "    \n",
    "    denominator = np.add(1, np.exp(-z))\n",
    "    \n",
    "    sig = np.divide(1, denominator)\n",
    "    \n",
    "    return sig"
   ]
  },
  {
   "cell_type": "code",
   "execution_count": 180,
   "metadata": {},
   "outputs": [],
   "source": [
    "def compute_loss(y, y_hat):\n",
    "    \n",
    "    diff = np.subtract(y, y_hat)\n",
    "    \n",
    "    diff_square = np.square(diff)\n",
    "    \n",
    "    loss = np.divide(diff_square, -2)\n",
    "    \n",
    "    return loss"
   ]
  },
  {
   "cell_type": "code",
   "execution_count": 181,
   "metadata": {},
   "outputs": [],
   "source": [
    "def copmute_del_z10__by__del_w9(z9):\n",
    "    \n",
    "    return z9"
   ]
  },
  {
   "cell_type": "code",
   "execution_count": 182,
   "metadata": {},
   "outputs": [],
   "source": [
    "def copmute_del_loss__by__del_w9(z9, y, y_hat):\n",
    "    \"\"\"\n",
    "    \"\"\"\n",
    "    del_loss__by__del_w9 = np.prod([\n",
    "        \n",
    "        copmute_del_loss__by__del_y_hat(y, y_hat),\n",
    "        copmute_del_y_hat__by__del_z10(),\n",
    "        copmute_del_z10__by__del_w9(z9)\n",
    "                        ])\n",
    "    \n",
    "    return del_loss__by__del_w9"
   ]
  },
  {
   "cell_type": "code",
   "execution_count": null,
   "metadata": {},
   "outputs": [],
   "source": []
  },
  {
   "cell_type": "code",
   "execution_count": null,
   "metadata": {},
   "outputs": [],
   "source": []
  },
  {
   "cell_type": "code",
   "execution_count": 183,
   "metadata": {},
   "outputs": [],
   "source": [
    "def copmute_del_z8__by__del_w8():\n",
    "    \n",
    "    return 1"
   ]
  },
  {
   "cell_type": "code",
   "execution_count": 184,
   "metadata": {},
   "outputs": [],
   "source": [
    "def copmute_del_loss__by__del_w8(z8, y, y_hat):\n",
    "    \"\"\"\n",
    "    \"\"\"\n",
    "    del_loss__by__del_w8 = np.prod([\n",
    "        \n",
    "        copmute_del_loss__by__del_y_hat(y, y_hat),\n",
    "        copmute_del_y_hat__by__del_z10(),\n",
    "        copmute_del_z10__by__del_z9(),\n",
    "        copmute_del_z9__by__del_z8(z8),\n",
    "        copmute_del_z8__by__del_w8(),\n",
    "                        ])\n",
    "    \n",
    "    return del_loss__by__del_w8"
   ]
  },
  {
   "cell_type": "code",
   "execution_count": null,
   "metadata": {},
   "outputs": [],
   "source": []
  },
  {
   "cell_type": "code",
   "execution_count": null,
   "metadata": {},
   "outputs": [],
   "source": []
  },
  {
   "cell_type": "code",
   "execution_count": 185,
   "metadata": {},
   "outputs": [],
   "source": [
    "def copmute_del_z3__by__del_w7(z2):\n",
    "    \n",
    "    return z2"
   ]
  },
  {
   "cell_type": "code",
   "execution_count": 186,
   "metadata": {},
   "outputs": [],
   "source": [
    "def copmute_del_loss__by__del_w7(z2, z3, y, y_hat):\n",
    "    \"\"\"\n",
    "    \"\"\"\n",
    "\n",
    "    del_loss__by__del_w7 = np.prod([\n",
    "                            copmute_del_loss__by__del_y_hat(y, y_hat),\n",
    "                            copmute_del_y_hat__by__del_z4(),\n",
    "                            copmute_del_z4__by__del_z3(z3),\n",
    "                            copmute_del_z3__by__del_w7(z2)\n",
    "                        ])\n",
    "    \n",
    "    return del_loss__by__del_w7"
   ]
  },
  {
   "cell_type": "code",
   "execution_count": null,
   "metadata": {},
   "outputs": [],
   "source": []
  },
  {
   "cell_type": "code",
   "execution_count": null,
   "metadata": {},
   "outputs": [],
   "source": []
  },
  {
   "cell_type": "code",
   "execution_count": 187,
   "metadata": {},
   "outputs": [],
   "source": [
    "def copmute_del_z1__by__del_w6():\n",
    "    \n",
    "     return 1"
   ]
  },
  {
   "cell_type": "code",
   "execution_count": 188,
   "metadata": {},
   "outputs": [],
   "source": [
    "def copmute_del_loss__by__del_w6(z3, z_01_mul_z_02_square, y, y_hat, w):\n",
    "    \"\"\"\n",
    "    \"\"\"\n",
    "    w1, w2, w3, w4, w5, w6, w7, w8, w9 = w\n",
    "    \n",
    "    del_loss__by__del_w6 = np.prod([\n",
    "        \n",
    "                            copmute_del_loss__by__del_y_hat(y, y_hat),\n",
    "                            copmute_del_y_hat__by__del_z4(),\n",
    "        \n",
    "                            copmute_del_z4__by__del_z3(z3),\n",
    "                            copmute_del_z3__by__del_z2(),\n",
    "                            copmute_del_z2__by__del_z1(z_01_mul_z_02_square, w6),\n",
    "                            copmute_del_z1__by__del_w6()\n",
    "                        ])\n",
    "    \n",
    "    return del_loss__by__del_w6"
   ]
  },
  {
   "cell_type": "code",
   "execution_count": null,
   "metadata": {},
   "outputs": [],
   "source": []
  },
  {
   "cell_type": "code",
   "execution_count": null,
   "metadata": {},
   "outputs": [],
   "source": []
  },
  {
   "cell_type": "code",
   "execution_count": 189,
   "metadata": {},
   "outputs": [],
   "source": [
    "def copmute_del_z7__by__del_w5(z6, f5):\n",
    "\n",
    "    return np.multiply(z6, f5)"
   ]
  },
  {
   "cell_type": "code",
   "execution_count": 190,
   "metadata": {},
   "outputs": [],
   "source": [
    "def copmute_del_loss__by__del_w5(f5, z6, z8, y, y_hat):\n",
    "    \n",
    "    w1, w2, w3, w4, w5, w6, w7, w8, w9 = w\n",
    "    \n",
    "    del_loss__by__del_w5 = np.prod([\n",
    "        copmute_del_loss__by__del_y_hat(y, y_hat),\n",
    "        copmute_del_y_hat__by__del_z10(),\n",
    "        copmute_del_z10__by__del_z9(),\n",
    "        copmute_del_z9__by__del_z8(z8),\n",
    "        copmute_del_z8__by__del_z7(),\n",
    "        copmute_del_z7__by__del_w5(z6, f5)\n",
    "    ])\n",
    "    \n",
    "    return del_loss__by__del_w5"
   ]
  },
  {
   "cell_type": "code",
   "execution_count": null,
   "metadata": {},
   "outputs": [],
   "source": []
  },
  {
   "cell_type": "code",
   "execution_count": null,
   "metadata": {},
   "outputs": [],
   "source": []
  },
  {
   "cell_type": "code",
   "execution_count": 191,
   "metadata": {},
   "outputs": [],
   "source": [
    "def copmute_del_z7__by__del_w4(z6, f4):\n",
    "\n",
    "    return np.multiply(z6, f4)"
   ]
  },
  {
   "cell_type": "code",
   "execution_count": 192,
   "metadata": {},
   "outputs": [],
   "source": [
    "def copmute_del_loss__by__del_w4(f4, z6, z8, y, y_hat):\n",
    "    \n",
    "    w1, w2, w3, w4, w5, w6, w7, w8, w9 = w\n",
    "    \n",
    "    del_loss__by__del_w4 = np.prod([\n",
    "        \n",
    "        copmute_del_loss__by__del_y_hat(y, y_hat),\n",
    "        copmute_del_y_hat__by__del_z10(),\n",
    "        copmute_del_z10__by__del_z9(),\n",
    "        copmute_del_z9__by__del_z8(z8),\n",
    "        copmute_del_z8__by__del_z7(),\n",
    "        copmute_del_z7__by__del_w4(z6, f4)\n",
    "    ])\n",
    "    \n",
    "    return del_loss__by__del_w4"
   ]
  },
  {
   "cell_type": "code",
   "execution_count": null,
   "metadata": {},
   "outputs": [],
   "source": []
  },
  {
   "cell_type": "code",
   "execution_count": null,
   "metadata": {},
   "outputs": [],
   "source": []
  },
  {
   "cell_type": "code",
   "execution_count": 193,
   "metadata": {},
   "outputs": [],
   "source": [
    "def copmute_del_z5__by__del_w3(f3):\n",
    "\n",
    "    return f3"
   ]
  },
  {
   "cell_type": "code",
   "execution_count": 194,
   "metadata": {},
   "outputs": [],
   "source": [
    "def copmute_del_z6__by__del_z5(z5):\n",
    "\n",
    "    return np.cos(z5)"
   ]
  },
  {
   "cell_type": "code",
   "execution_count": 195,
   "metadata": {},
   "outputs": [],
   "source": [
    "def copmute_del_z7__by__del_z6(f4, f5, w4, w5):\n",
    "\n",
    "    return np.add(np.multiply(f4, w4), np.multiply(f5, w5))"
   ]
  },
  {
   "cell_type": "code",
   "execution_count": 196,
   "metadata": {},
   "outputs": [],
   "source": [
    "def copmute_del_z8__by__del_z7():\n",
    "        \n",
    "    return 1"
   ]
  },
  {
   "cell_type": "code",
   "execution_count": 197,
   "metadata": {},
   "outputs": [],
   "source": [
    "def copmute_del_z9__by__del_z8(z8):\n",
    "    \n",
    "    a = sigmoid(z8)\n",
    "    b = np.subtract(1, a)\n",
    "\n",
    "    return np.multiply(a, b)"
   ]
  },
  {
   "cell_type": "code",
   "execution_count": 198,
   "metadata": {},
   "outputs": [],
   "source": [
    "def copmute_del_z10__by__del_z9():\n",
    "    \n",
    "    return 1"
   ]
  },
  {
   "cell_type": "code",
   "execution_count": 199,
   "metadata": {},
   "outputs": [],
   "source": [
    "def copmute_del_y_hat__by__del_z10():\n",
    "    \n",
    "    return 1"
   ]
  },
  {
   "cell_type": "code",
   "execution_count": 200,
   "metadata": {},
   "outputs": [],
   "source": [
    "def copmute_del_loss__by__del_w3(f3, f4, f5, z5, z8, y, y_hat, w):\n",
    "    \n",
    "    w1, w2, w3, w4, w5, w6, w7, w8, w9 = w\n",
    "    \n",
    "    del_loss__by__del_w3 = np.prod([\n",
    "        copmute_del_loss__by__del_y_hat(y, y_hat),\n",
    "        copmute_del_y_hat__by__del_z10(),\n",
    "        copmute_del_z10__by__del_z9(),\n",
    "        copmute_del_z9__by__del_z8(z8),\n",
    "        copmute_del_z8__by__del_z7(),\n",
    "        copmute_del_z7__by__del_z6(f4, f5, w4, w5),\n",
    "        copmute_del_z6__by__del_z5(z5),\n",
    "        copmute_del_z5__by__del_w3(f3)        \n",
    "    ])\n",
    "    \n",
    "    return del_loss__by__del_w3"
   ]
  },
  {
   "cell_type": "code",
   "execution_count": null,
   "metadata": {},
   "outputs": [],
   "source": []
  },
  {
   "cell_type": "code",
   "execution_count": null,
   "metadata": {},
   "outputs": [],
   "source": []
  },
  {
   "cell_type": "code",
   "execution_count": 201,
   "metadata": {},
   "outputs": [],
   "source": [
    "def copmute_del_z1__by__del_w2(f1, f2, w1, w2):\n",
    "    \n",
    "    linear_eqn = np.add(np.multiply(f1, w1), np.multiply(f2, w2))\n",
    "    \n",
    "    grad = np.multiply(2 * f2, linear_eqn)\n",
    "    \n",
    "    return grad"
   ]
  },
  {
   "cell_type": "code",
   "execution_count": 202,
   "metadata": {},
   "outputs": [],
   "source": [
    "def copmute_del_loss__by__del_w2(f1, f2, z_01_mul_z_02_square, w, y, y_hat):\n",
    "    \n",
    "    \"\"\"\n",
    "    \"\"\"\n",
    "    w1, w2, w3, w4, w5, w6, w7, w8, w9 = w\n",
    "    \n",
    "    del_loss__by__del_w1 = np.prod([\n",
    "                            copmute_del_loss__by__del_y_hat(y, y_hat),\n",
    "                            copmute_del_y_hat__by__del_z4(),\n",
    "                            copmute_del_z4__by__del_z3(z3),\n",
    "                            copmute_del_z3__by__del_z2(),\n",
    "                            copmute_del_z2__by__del_z1(z_01_mul_z_02_square, w6),\n",
    "                            copmute_del_z1__by__del_w2(f1, f2, w1, w2),\n",
    "                        ])\n",
    "    \n",
    "    return del_loss__by__del_w1"
   ]
  },
  {
   "cell_type": "code",
   "execution_count": null,
   "metadata": {},
   "outputs": [],
   "source": []
  },
  {
   "cell_type": "code",
   "execution_count": null,
   "metadata": {},
   "outputs": [],
   "source": []
  },
  {
   "cell_type": "code",
   "execution_count": 203,
   "metadata": {},
   "outputs": [],
   "source": [
    "def copmute_del_z1__by__del_w1(f1, f2, w1, w2):\n",
    "    \n",
    "    linear_eqn = np.add(np.multiply(f1, w1), np.multiply(f2, w2))\n",
    "    \n",
    "    grad = np.multiply(2 * f1, linear_eqn)\n",
    "    \n",
    "    return grad"
   ]
  },
  {
   "cell_type": "code",
   "execution_count": 204,
   "metadata": {},
   "outputs": [],
   "source": [
    "def copmute_del_z2__by__del_z1(z_01_mul_z_02_square, w6):\n",
    "    \n",
    "    return np.exp(np.add(z_01_mul_z_02_square, w6))"
   ]
  },
  {
   "cell_type": "code",
   "execution_count": 205,
   "metadata": {},
   "outputs": [],
   "source": [
    "def copmute_del_z3__by__del_z2():\n",
    "    \n",
    "    return 1"
   ]
  },
  {
   "cell_type": "code",
   "execution_count": 206,
   "metadata": {},
   "outputs": [],
   "source": [
    "\n",
    "def copmute_del_z4__by__del_z3(z3):\n",
    "    \n",
    "    tanh_square = np.square(np.tanh(z3))\n",
    "    \n",
    "    return np.subtract(1, tanh_square)"
   ]
  },
  {
   "cell_type": "code",
   "execution_count": 207,
   "metadata": {},
   "outputs": [],
   "source": [
    "def copmute_del_y_hat__by__del_z4():\n",
    "    \n",
    "    return 1"
   ]
  },
  {
   "cell_type": "code",
   "execution_count": 208,
   "metadata": {},
   "outputs": [],
   "source": [
    "def copmute_del_loss__by__del_y_hat(y, y_hat):\n",
    "    \n",
    "    return -np.subtract(y, y_hat)"
   ]
  },
  {
   "cell_type": "code",
   "execution_count": null,
   "metadata": {},
   "outputs": [],
   "source": []
  },
  {
   "cell_type": "code",
   "execution_count": 209,
   "metadata": {},
   "outputs": [],
   "source": [
    "def copmute_del_loss__by__del_w1(f1, f2, z_01_mul_z_02_square, w, y, y_hat):\n",
    "    \"\"\"\n",
    "    \"\"\"\n",
    "    w1, w2, w3, w4, w5, w6, w7, w8, w9 = w\n",
    "    \n",
    "    del_loss__by__del_w1 = np.prod([\n",
    "                            copmute_del_loss__by__del_y_hat(y, y_hat),\n",
    "                            copmute_del_y_hat__by__del_z4(),\n",
    "                            copmute_del_z4__by__del_z3(z3),\n",
    "                            copmute_del_z3__by__del_z2(),\n",
    "                            copmute_del_z2__by__del_z1(z_01_mul_z_02_square, w6),\n",
    "                            copmute_del_z1__by__del_w1(f1, f2, w1, w2),\n",
    "                        ])\n",
    "    \n",
    "    return del_loss__by__del_w1"
   ]
  },
  {
   "cell_type": "code",
   "execution_count": 215,
   "metadata": {},
   "outputs": [
    {
     "name": "stderr",
     "output_type": "stream",
     "text": [
      "\r",
      "  0%|                                                                                          | 0/100 [00:00<?, ?it/s]"
     ]
    },
    {
     "name": "stdout",
     "output_type": "stream",
     "text": [
      "-1.287909498957745 -0.12001341619804987 -1.4590003802772022 -0.6666082090210984 -0.14421743255530314\n"
     ]
    },
    {
     "name": "stderr",
     "output_type": "stream",
     "text": [
      "\n"
     ]
    }
   ],
   "source": [
    "epochs = 100\n",
    "lr = 0.0001\n",
    "loss_trace = list()\n",
    "\n",
    "for epoch in tqdm(range(epochs)):\n",
    "    \n",
    "    loss_temp = 0.0\n",
    "    for (f1, f2, f3, f4, f5), y in zip(X, Y):\n",
    "        print(f1, f2, f3, f4, f5)\n",
    "\n",
    "        \"\"\"\n",
    "           FORWARD PROPAGATION\n",
    "           -------------------\n",
    "           \n",
    "        Here we're calculating following node values\n",
    "        \n",
    "        z_01, z_02, z_01_mul_z_02\n",
    "        AND\n",
    "        z1, z2, z3, z4, z5\n",
    "        \"\"\"\n",
    "        z_01 = np.multiply(f1, w[0])\n",
    "        z_02 = np.multiply(f2, w[1])\n",
    "        \n",
    "        z_01_add_z_02 = np.add(z_01, z_02)\n",
    "        \n",
    "        z_01_add_z_02_square = np.square(z_01_add_z_02)\n",
    "        \n",
    "        z1 = np.add(z_01_add_z_02_square, w[5])\n",
    "        \n",
    "        z2 = np.exp(z1)\n",
    "        \n",
    "        z3 = np.add(z2, w[6])\n",
    "        \n",
    "        z4 = np.tanh(z3)\n",
    "\n",
    "\n",
    "        \"\"\"\n",
    "        Here we're calculating following node values\n",
    "        \n",
    "        z_03, z6\n",
    "        \"\"\"\n",
    "        z5 = np.multiply(f3, w[2])\n",
    "        \n",
    "        z6 = np.sin(z5)\n",
    "        \n",
    "\n",
    "        \"\"\"\n",
    "        Here we're calculating following node values\n",
    "        \n",
    "        z_04, z_05, z_04_mul_z_05\n",
    "        AND\n",
    "        z7, z8, z9, z10\n",
    "        \"\"\"\n",
    "        z_04 = np.multiply(f4, w[3])\n",
    "        \n",
    "        z_05 = np.multiply(f5, w[4])\n",
    "        \n",
    "        z_04_add_z_05 = np.add(z_04, z_05)\n",
    "\n",
    "        z7 = np.multiply(z6, z_04_add_z_05) \n",
    "        \n",
    "        z8 = np.add(z7, w[7])\n",
    "        \n",
    "        #z9\n",
    "        sig = sigmoid(z8)\n",
    "        \n",
    "        z10 = np.multiply(sig, w[8])\n",
    "        \n",
    "        \n",
    "        \"\"\"\n",
    "        Here we're calculating following node values\n",
    "\n",
    "        y_hat, loss\n",
    "        \"\"\"\n",
    "        y_hat = np.add(z4, z10)\n",
    "        \n",
    "        loss = compute_loss(y, y_hat)\n",
    "        \n",
    "        loss_temp += loss\n",
    "        \n",
    "        \"\"\"\n",
    "        del_loss__by__del_w1 = copmute_del_loss__by__del_w1(f1, f2, z_01_mul_z_02_square, w, y, y_hat)\n",
    "        \n",
    "        del_loss__by__del_w2 = copmute_del_loss__by__del_w2(f1, f2, z_01_mul_z_02_square, w, y, y_hat)\n",
    "        \n",
    "        del_loss__by__del_w3 = copmute_del_loss__by__del_w2(f1, f2, z_01_mul_z_02_square, w, y, y_hat)\n",
    "        \n",
    "        del_loss__by__del_w4 = copmute_del_loss__by__del_w4(f4, z6, z8, y, y_hat)\n",
    "        \n",
    "        del_loss__by__del_w5 = copmute_del_loss__by__del_w5(f5, z6, z8, y, y_hat)\n",
    "        \n",
    "        del_loss__by__del_w6 = copmute_del_loss__by__del_w6(z3, z_01_mul_z_02_square, y, y_hat, w)\n",
    "        \n",
    "        del_loss__by__del_w7 = copmute_del_loss__by__del_w7(z2, z3, y, y_hat)\n",
    "        \n",
    "        del_loss__by__del_w8 = copmute_del_loss__by__del_w8(z8, y, y_hat)\n",
    "        \n",
    "        del_loss__by__del_w9 = copmute_del_loss__by__del_w9(z9, y, y_hat)\n",
    "        \n",
    "        \"\"\"\n",
    "        l_w1 = copmute_del_loss__by__del_w1(f1, f2, z_01_mul_z_02_square, w, y, y_hat)\n",
    "        \n",
    "        l_w2 = copmute_del_loss__by__del_w2(f1, f2, z_01_mul_z_02_square, w, y, y_hat)\n",
    "        \n",
    "        l_w3 = copmute_del_loss__by__del_w2(f1, f2, z_01_mul_z_02_square, w, y, y_hat)\n",
    "        \n",
    "        l_w4 = copmute_del_loss__by__del_w4(f4, z6, z8, y, y_hat)\n",
    "        \n",
    "        l_w5 = copmute_del_loss__by__del_w5(f5, z6, z8, y, y_hat)\n",
    "        \n",
    "        l_w6 = copmute_del_loss__by__del_w6(z3, z_01_mul_z_02_square, y, y_hat, w)\n",
    "        \n",
    "        l_w7 = copmute_del_loss__by__del_w7(z2, z3, y, y_hat)\n",
    "        \n",
    "        l_w8 = copmute_del_loss__by__del_w8(z8, y, y_hat)\n",
    "        \n",
    "        l_w9 = copmute_del_loss__by__del_w9(z9, y, y_hat)\n",
    "\n",
    "        w = [ np.subtract(weight, -lr * l_w) for weight, l_w in zip(w, [l_w1, l_w2, l_w3, l_w4, l_w5, l_w6, l_w7, l_w8, l_w9])]\n",
    "        break\n",
    "    avg_loss = np.divide(loss_temp, X.shape[0])\n",
    "    loss_trace.append(avg_loss)\n",
    "    break"
   ]
  },
  {
   "cell_type": "code",
   "execution_count": 211,
   "metadata": {},
   "outputs": [
    {
     "name": "stdout",
     "output_type": "stream",
     "text": [
      "[0.0999938535826559, 0.09999942724815414, 0.09999942724815414, 0.09999880558023803, 0.09999974159311402, 0.09998305163430636, 0.09998305163430636, 0.09998767540082415, 0.09997887837088057]\n"
     ]
    }
   ],
   "source": [
    "print(w)"
   ]
  },
  {
   "cell_type": "code",
   "execution_count": 212,
   "metadata": {},
   "outputs": [
    {
     "data": {
      "text/plain": [
       "[-0.00025413062048935817]"
      ]
     },
     "execution_count": 212,
     "metadata": {},
     "output_type": "execute_result"
    }
   ],
   "source": [
    "loss_trace"
   ]
  },
  {
   "cell_type": "code",
   "execution_count": 213,
   "metadata": {},
   "outputs": [
    {
     "data": {
      "text/plain": [
       "0.8352"
      ]
     },
     "execution_count": 213,
     "metadata": {},
     "output_type": "execute_result"
    }
   ],
   "source": [
    "np.round(0.8352258550315, 4)"
   ]
  },
  {
   "cell_type": "code",
   "execution_count": 214,
   "metadata": {},
   "outputs": [
    {
     "data": {
      "text/plain": [
       "9"
      ]
     },
     "execution_count": 214,
     "metadata": {},
     "output_type": "execute_result"
    }
   ],
   "source": [
    "np.square(3)"
   ]
  },
  {
   "cell_type": "code",
   "execution_count": null,
   "metadata": {},
   "outputs": [],
   "source": []
  },
  {
   "cell_type": "code",
   "execution_count": null,
   "metadata": {},
   "outputs": [],
   "source": []
  },
  {
   "cell_type": "code",
   "execution_count": null,
   "metadata": {},
   "outputs": [],
   "source": []
  },
  {
   "cell_type": "code",
   "execution_count": null,
   "metadata": {},
   "outputs": [],
   "source": []
  },
  {
   "cell_type": "code",
   "execution_count": null,
   "metadata": {},
   "outputs": [],
   "source": []
  },
  {
   "cell_type": "code",
   "execution_count": null,
   "metadata": {},
   "outputs": [],
   "source": []
  },
  {
   "cell_type": "code",
   "execution_count": null,
   "metadata": {},
   "outputs": [],
   "source": []
  },
  {
   "cell_type": "code",
   "execution_count": null,
   "metadata": {},
   "outputs": [],
   "source": []
  },
  {
   "cell_type": "code",
   "execution_count": null,
   "metadata": {},
   "outputs": [],
   "source": []
  },
  {
   "cell_type": "code",
   "execution_count": null,
   "metadata": {},
   "outputs": [],
   "source": []
  }
 ],
 "metadata": {
  "kernelspec": {
   "display_name": "Python 3",
   "language": "python",
   "name": "python3"
  },
  "language_info": {
   "codemirror_mode": {
    "name": "ipython",
    "version": 3
   },
   "file_extension": ".py",
   "mimetype": "text/x-python",
   "name": "python",
   "nbconvert_exporter": "python",
   "pygments_lexer": "ipython3",
   "version": "3.7.0"
  }
 },
 "nbformat": 4,
 "nbformat_minor": 2
}
